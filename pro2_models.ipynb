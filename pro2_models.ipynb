{
  "nbformat": 4,
  "nbformat_minor": 0,
  "metadata": {
    "colab": {
      "name": "pro2_models.ipynb",
      "provenance": [],
      "authorship_tag": "ABX9TyOEZYxU/jBpeyhzNATgIK7t",
      "include_colab_link": true
    },
    "kernelspec": {
      "name": "python3",
      "display_name": "Python 3"
    },
    "language_info": {
      "name": "python"
    }
  },
  "cells": [
    {
      "cell_type": "markdown",
      "metadata": {
        "id": "view-in-github",
        "colab_type": "text"
      },
      "source": [
        "<a href=\"https://colab.research.google.com/github/zolfaShefreie/data-mining-classification/blob/main/pro2_models.ipynb\" target=\"_parent\"><img src=\"https://colab.research.google.com/assets/colab-badge.svg\" alt=\"Open In Colab\"/></a>"
      ]
    },
    {
      "cell_type": "code",
      "metadata": {
        "id": "_harzP7VXemr"
      },
      "source": [
        "import pandas as pd\n",
        "import numpy as np"
      ],
      "execution_count": null,
      "outputs": []
    },
    {
      "cell_type": "code",
      "metadata": {
        "id": "StLqElfcAWxL"
      },
      "source": [
        "df = pd.read_excel('./dataset.xls', parse_dates=True)"
      ],
      "execution_count": null,
      "outputs": []
    },
    {
      "cell_type": "code",
      "metadata": {
        "id": "rmDPsQocAc_o"
      },
      "source": [
        "df.columns = ['Index', 'Customer', 'Agent', 'SalesAgentEmailID',\n",
        "       'ContactEmailID', 'Stage', 'Product', 'Close_Value', 'Created Date',\n",
        "       'Close Date']"
      ],
      "execution_count": null,
      "outputs": []
    },
    {
      "cell_type": "code",
      "metadata": {
        "colab": {
          "base_uri": "https://localhost:8080/"
        },
        "id": "i_dmg91uAhBF",
        "outputId": "9fee9c3f-c3a5-4c1f-a017-222285f05929"
      },
      "source": [
        "df.isnull().sum()"
      ],
      "execution_count": null,
      "outputs": [
        {
          "output_type": "execute_result",
          "data": {
            "text/plain": [
              "Index                   0\n",
              "Customer                0\n",
              "Agent                   0\n",
              "SalesAgentEmailID       0\n",
              "ContactEmailID          0\n",
              "Stage                   0\n",
              "Product                 0\n",
              "Close_Value          1208\n",
              "Created Date            0\n",
              "Close Date              0\n",
              "dtype: int64"
            ]
          },
          "metadata": {
            "tags": []
          },
          "execution_count": 360
        }
      ]
    },
    {
      "cell_type": "code",
      "metadata": {
        "id": "--igrf7lAluU"
      },
      "source": [
        "df['Created Date Year'] =pd.DatetimeIndex(df['Created Date']).year"
      ],
      "execution_count": null,
      "outputs": []
    },
    {
      "cell_type": "code",
      "metadata": {
        "id": "haIFOqlAAxXO"
      },
      "source": [
        "df['Close Date Year'] =pd.DatetimeIndex(df['Close Date']).year"
      ],
      "execution_count": null,
      "outputs": []
    },
    {
      "cell_type": "code",
      "metadata": {
        "id": "yKQcpw4-A2su"
      },
      "source": [
        "df['days'] = (df['Close Date'] - df['Created Date'])/np.timedelta64(1,'D')"
      ],
      "execution_count": null,
      "outputs": []
    },
    {
      "cell_type": "code",
      "metadata": {
        "colab": {
          "base_uri": "https://localhost:8080/"
        },
        "id": "8PdeYhe79RXh",
        "outputId": "fd55bbc1-3ffe-4342-f4ff-31b93e104f54"
      },
      "source": [
        "len(df['Agent'].unique()), len(df['SalesAgentEmailID'].unique())"
      ],
      "execution_count": null,
      "outputs": [
        {
          "output_type": "execute_result",
          "data": {
            "text/plain": [
              "(30, 30)"
            ]
          },
          "metadata": {
            "tags": []
          },
          "execution_count": 364
        }
      ]
    },
    {
      "cell_type": "code",
      "metadata": {
        "id": "Q62nJs6vA72_"
      },
      "source": [
        "df.drop('Created Date', axis='columns', inplace=True)"
      ],
      "execution_count": null,
      "outputs": []
    },
    {
      "cell_type": "code",
      "metadata": {
        "id": "0t6SK_aMBX1H"
      },
      "source": [
        "df.drop('Close Date', axis='columns', inplace=True)"
      ],
      "execution_count": null,
      "outputs": []
    },
    {
      "cell_type": "code",
      "metadata": {
        "id": "85rlA_rKBc-n"
      },
      "source": [
        "df.drop('Customer', axis='columns', inplace=True)\n",
        "df.drop('SalesAgentEmailID', axis='columns', inplace=True)\n",
        "df.drop('ContactEmailID', axis='columns', inplace=True)"
      ],
      "execution_count": null,
      "outputs": []
    },
    {
      "cell_type": "code",
      "metadata": {
        "colab": {
          "base_uri": "https://localhost:8080/"
        },
        "id": "MNFDnRbdBzwA",
        "outputId": "ffb16362-8022-4894-8869-27c17414dd70"
      },
      "source": [
        "df.columns"
      ],
      "execution_count": null,
      "outputs": [
        {
          "output_type": "execute_result",
          "data": {
            "text/plain": [
              "Index(['Index', 'Agent', 'Stage', 'Product', 'Close_Value',\n",
              "       'Created Date Year', 'Close Date Year', 'days'],\n",
              "      dtype='object')"
            ]
          },
          "metadata": {
            "tags": []
          },
          "execution_count": 368
        }
      ]
    },
    {
      "cell_type": "code",
      "metadata": {
        "id": "yoHcbY6PB3nF"
      },
      "source": [
        "group_product_stage = df.groupby(['Product', 'Stage'])['Close_Value'].mean().reset_index()\n",
        "group_product_stage.columns = ['Product', 'Stage', 'Mean_Close_Value']"
      ],
      "execution_count": null,
      "outputs": []
    },
    {
      "cell_type": "code",
      "metadata": {
        "colab": {
          "base_uri": "https://localhost:8080/",
          "height": 643
        },
        "id": "UVsKBVD6KibW",
        "outputId": "a047c046-271e-4859-8324-aac8150d5998"
      },
      "source": [
        "merged_pfs = pd.merge(df, group_product_stage, on=['Product', 'Stage'])\n",
        "merged_pfs.sort_values(by=['Index'], inplace=True)\n",
        "merged_pfs.reset_index(inplace=True)\n",
        "merged_pfs"
      ],
      "execution_count": null,
      "outputs": [
        {
          "output_type": "execute_result",
          "data": {
            "text/html": [
              "<div>\n",
              "<style scoped>\n",
              "    .dataframe tbody tr th:only-of-type {\n",
              "        vertical-align: middle;\n",
              "    }\n",
              "\n",
              "    .dataframe tbody tr th {\n",
              "        vertical-align: top;\n",
              "    }\n",
              "\n",
              "    .dataframe thead th {\n",
              "        text-align: right;\n",
              "    }\n",
              "</style>\n",
              "<table border=\"1\" class=\"dataframe\">\n",
              "  <thead>\n",
              "    <tr style=\"text-align: right;\">\n",
              "      <th></th>\n",
              "      <th>index</th>\n",
              "      <th>Index</th>\n",
              "      <th>Agent</th>\n",
              "      <th>Stage</th>\n",
              "      <th>Product</th>\n",
              "      <th>Close_Value</th>\n",
              "      <th>Created Date Year</th>\n",
              "      <th>Close Date Year</th>\n",
              "      <th>days</th>\n",
              "      <th>Mean_Close_Value</th>\n",
              "    </tr>\n",
              "  </thead>\n",
              "  <tbody>\n",
              "    <tr>\n",
              "      <th>0</th>\n",
              "      <td>0</td>\n",
              "      <td>0</td>\n",
              "      <td>Corliss Cosme</td>\n",
              "      <td>Won</td>\n",
              "      <td>GTX Plus Basic</td>\n",
              "      <td>1255.0</td>\n",
              "      <td>2016</td>\n",
              "      <td>2016</td>\n",
              "      <td>141.0</td>\n",
              "      <td>1082.183432</td>\n",
              "    </tr>\n",
              "    <tr>\n",
              "      <th>1</th>\n",
              "      <td>590</td>\n",
              "      <td>1</td>\n",
              "      <td>Rosalina Dieter</td>\n",
              "      <td>Won</td>\n",
              "      <td>MG Special</td>\n",
              "      <td>45.0</td>\n",
              "      <td>2016</td>\n",
              "      <td>2016</td>\n",
              "      <td>303.0</td>\n",
              "      <td>55.178322</td>\n",
              "    </tr>\n",
              "    <tr>\n",
              "      <th>2</th>\n",
              "      <td>1270</td>\n",
              "      <td>2</td>\n",
              "      <td>Donn Cantrell</td>\n",
              "      <td>Lost</td>\n",
              "      <td>MG Special</td>\n",
              "      <td>NaN</td>\n",
              "      <td>2016</td>\n",
              "      <td>2016</td>\n",
              "      <td>336.0</td>\n",
              "      <td>1260.413793</td>\n",
              "    </tr>\n",
              "    <tr>\n",
              "      <th>3</th>\n",
              "      <td>1626</td>\n",
              "      <td>3</td>\n",
              "      <td>James Ascencio</td>\n",
              "      <td>In Progress</td>\n",
              "      <td>MG Advanced</td>\n",
              "      <td>1054.0</td>\n",
              "      <td>2016</td>\n",
              "      <td>2016</td>\n",
              "      <td>249.0</td>\n",
              "      <td>1510.356643</td>\n",
              "    </tr>\n",
              "    <tr>\n",
              "      <th>4</th>\n",
              "      <td>1954</td>\n",
              "      <td>4</td>\n",
              "      <td>Lajuana Vencill</td>\n",
              "      <td>Won</td>\n",
              "      <td>MG Advanced</td>\n",
              "      <td>3180.0</td>\n",
              "      <td>2016</td>\n",
              "      <td>2016</td>\n",
              "      <td>24.0</td>\n",
              "      <td>3382.754065</td>\n",
              "    </tr>\n",
              "    <tr>\n",
              "      <th>...</th>\n",
              "      <td>...</td>\n",
              "      <td>...</td>\n",
              "      <td>...</td>\n",
              "      <td>...</td>\n",
              "      <td>...</td>\n",
              "      <td>...</td>\n",
              "      <td>...</td>\n",
              "      <td>...</td>\n",
              "      <td>...</td>\n",
              "      <td>...</td>\n",
              "    </tr>\n",
              "    <tr>\n",
              "      <th>7795</th>\n",
              "      <td>7416</td>\n",
              "      <td>7795</td>\n",
              "      <td>Jonathan Berthelot</td>\n",
              "      <td>In Progress</td>\n",
              "      <td>GTX Basic</td>\n",
              "      <td>590.0</td>\n",
              "      <td>2018</td>\n",
              "      <td>2019</td>\n",
              "      <td>204.0</td>\n",
              "      <td>1326.275862</td>\n",
              "    </tr>\n",
              "    <tr>\n",
              "      <th>7796</th>\n",
              "      <td>1953</td>\n",
              "      <td>7796</td>\n",
              "      <td>Marty Freudenburg</td>\n",
              "      <td>In Progress</td>\n",
              "      <td>MG Advanced</td>\n",
              "      <td>3284.0</td>\n",
              "      <td>2018</td>\n",
              "      <td>2019</td>\n",
              "      <td>147.0</td>\n",
              "      <td>1510.356643</td>\n",
              "    </tr>\n",
              "    <tr>\n",
              "      <th>7797</th>\n",
              "      <td>6986</td>\n",
              "      <td>7797</td>\n",
              "      <td>Anna Snelling</td>\n",
              "      <td>In Progress</td>\n",
              "      <td>GTX Plus Pro</td>\n",
              "      <td>300.0</td>\n",
              "      <td>2018</td>\n",
              "      <td>2019</td>\n",
              "      <td>105.0</td>\n",
              "      <td>1344.198953</td>\n",
              "    </tr>\n",
              "    <tr>\n",
              "      <th>7798</th>\n",
              "      <td>6216</td>\n",
              "      <td>7798</td>\n",
              "      <td>Gladys Colclough</td>\n",
              "      <td>In Progress</td>\n",
              "      <td>MG Special</td>\n",
              "      <td>3284.0</td>\n",
              "      <td>2018</td>\n",
              "      <td>2019</td>\n",
              "      <td>136.0</td>\n",
              "      <td>1333.502732</td>\n",
              "    </tr>\n",
              "    <tr>\n",
              "      <th>7799</th>\n",
              "      <td>6217</td>\n",
              "      <td>7799</td>\n",
              "      <td>Jonathan Berthelot</td>\n",
              "      <td>In Progress</td>\n",
              "      <td>MG Special</td>\n",
              "      <td>1014.0</td>\n",
              "      <td>2018</td>\n",
              "      <td>2019</td>\n",
              "      <td>213.0</td>\n",
              "      <td>1333.502732</td>\n",
              "    </tr>\n",
              "  </tbody>\n",
              "</table>\n",
              "<p>7800 rows × 10 columns</p>\n",
              "</div>"
            ],
            "text/plain": [
              "      index  Index  ...   days Mean_Close_Value\n",
              "0         0      0  ...  141.0      1082.183432\n",
              "1       590      1  ...  303.0        55.178322\n",
              "2      1270      2  ...  336.0      1260.413793\n",
              "3      1626      3  ...  249.0      1510.356643\n",
              "4      1954      4  ...   24.0      3382.754065\n",
              "...     ...    ...  ...    ...              ...\n",
              "7795   7416   7795  ...  204.0      1326.275862\n",
              "7796   1953   7796  ...  147.0      1510.356643\n",
              "7797   6986   7797  ...  105.0      1344.198953\n",
              "7798   6216   7798  ...  136.0      1333.502732\n",
              "7799   6217   7799  ...  213.0      1333.502732\n",
              "\n",
              "[7800 rows x 10 columns]"
            ]
          },
          "metadata": {
            "tags": []
          },
          "execution_count": 370
        }
      ]
    },
    {
      "cell_type": "code",
      "metadata": {
        "colab": {
          "base_uri": "https://localhost:8080/",
          "height": 554
        },
        "id": "cNh7e1gaLH_e",
        "outputId": "8976c4e6-820d-4357-ab70-6916b264c06e"
      },
      "source": [
        "df['Close_Value'].fillna(merged_pfs['Mean_Close_Value'], inplace=True)\n",
        "df"
      ],
      "execution_count": null,
      "outputs": [
        {
          "output_type": "execute_result",
          "data": {
            "text/html": [
              "<div>\n",
              "<style scoped>\n",
              "    .dataframe tbody tr th:only-of-type {\n",
              "        vertical-align: middle;\n",
              "    }\n",
              "\n",
              "    .dataframe tbody tr th {\n",
              "        vertical-align: top;\n",
              "    }\n",
              "\n",
              "    .dataframe thead th {\n",
              "        text-align: right;\n",
              "    }\n",
              "</style>\n",
              "<table border=\"1\" class=\"dataframe\">\n",
              "  <thead>\n",
              "    <tr style=\"text-align: right;\">\n",
              "      <th></th>\n",
              "      <th>Index</th>\n",
              "      <th>Agent</th>\n",
              "      <th>Stage</th>\n",
              "      <th>Product</th>\n",
              "      <th>Close_Value</th>\n",
              "      <th>Created Date Year</th>\n",
              "      <th>Close Date Year</th>\n",
              "      <th>days</th>\n",
              "    </tr>\n",
              "  </thead>\n",
              "  <tbody>\n",
              "    <tr>\n",
              "      <th>0</th>\n",
              "      <td>0</td>\n",
              "      <td>Corliss Cosme</td>\n",
              "      <td>Won</td>\n",
              "      <td>GTX Plus Basic</td>\n",
              "      <td>1255.000000</td>\n",
              "      <td>2016</td>\n",
              "      <td>2016</td>\n",
              "      <td>141.0</td>\n",
              "    </tr>\n",
              "    <tr>\n",
              "      <th>1</th>\n",
              "      <td>1</td>\n",
              "      <td>Rosalina Dieter</td>\n",
              "      <td>Won</td>\n",
              "      <td>MG Special</td>\n",
              "      <td>45.000000</td>\n",
              "      <td>2016</td>\n",
              "      <td>2016</td>\n",
              "      <td>303.0</td>\n",
              "    </tr>\n",
              "    <tr>\n",
              "      <th>2</th>\n",
              "      <td>2</td>\n",
              "      <td>Donn Cantrell</td>\n",
              "      <td>Lost</td>\n",
              "      <td>MG Special</td>\n",
              "      <td>1260.413793</td>\n",
              "      <td>2016</td>\n",
              "      <td>2016</td>\n",
              "      <td>336.0</td>\n",
              "    </tr>\n",
              "    <tr>\n",
              "      <th>3</th>\n",
              "      <td>3</td>\n",
              "      <td>James Ascencio</td>\n",
              "      <td>In Progress</td>\n",
              "      <td>MG Advanced</td>\n",
              "      <td>1054.000000</td>\n",
              "      <td>2016</td>\n",
              "      <td>2016</td>\n",
              "      <td>249.0</td>\n",
              "    </tr>\n",
              "    <tr>\n",
              "      <th>4</th>\n",
              "      <td>4</td>\n",
              "      <td>Lajuana Vencill</td>\n",
              "      <td>Won</td>\n",
              "      <td>MG Advanced</td>\n",
              "      <td>3180.000000</td>\n",
              "      <td>2016</td>\n",
              "      <td>2016</td>\n",
              "      <td>24.0</td>\n",
              "    </tr>\n",
              "    <tr>\n",
              "      <th>...</th>\n",
              "      <td>...</td>\n",
              "      <td>...</td>\n",
              "      <td>...</td>\n",
              "      <td>...</td>\n",
              "      <td>...</td>\n",
              "      <td>...</td>\n",
              "      <td>...</td>\n",
              "      <td>...</td>\n",
              "    </tr>\n",
              "    <tr>\n",
              "      <th>7795</th>\n",
              "      <td>7795</td>\n",
              "      <td>Jonathan Berthelot</td>\n",
              "      <td>In Progress</td>\n",
              "      <td>GTX Basic</td>\n",
              "      <td>590.000000</td>\n",
              "      <td>2018</td>\n",
              "      <td>2019</td>\n",
              "      <td>204.0</td>\n",
              "    </tr>\n",
              "    <tr>\n",
              "      <th>7796</th>\n",
              "      <td>7796</td>\n",
              "      <td>Marty Freudenburg</td>\n",
              "      <td>In Progress</td>\n",
              "      <td>MG Advanced</td>\n",
              "      <td>3284.000000</td>\n",
              "      <td>2018</td>\n",
              "      <td>2019</td>\n",
              "      <td>147.0</td>\n",
              "    </tr>\n",
              "    <tr>\n",
              "      <th>7797</th>\n",
              "      <td>7797</td>\n",
              "      <td>Anna Snelling</td>\n",
              "      <td>In Progress</td>\n",
              "      <td>GTX Plus Pro</td>\n",
              "      <td>300.000000</td>\n",
              "      <td>2018</td>\n",
              "      <td>2019</td>\n",
              "      <td>105.0</td>\n",
              "    </tr>\n",
              "    <tr>\n",
              "      <th>7798</th>\n",
              "      <td>7798</td>\n",
              "      <td>Gladys Colclough</td>\n",
              "      <td>In Progress</td>\n",
              "      <td>MG Special</td>\n",
              "      <td>3284.000000</td>\n",
              "      <td>2018</td>\n",
              "      <td>2019</td>\n",
              "      <td>136.0</td>\n",
              "    </tr>\n",
              "    <tr>\n",
              "      <th>7799</th>\n",
              "      <td>7799</td>\n",
              "      <td>Jonathan Berthelot</td>\n",
              "      <td>In Progress</td>\n",
              "      <td>MG Special</td>\n",
              "      <td>1014.000000</td>\n",
              "      <td>2018</td>\n",
              "      <td>2019</td>\n",
              "      <td>213.0</td>\n",
              "    </tr>\n",
              "  </tbody>\n",
              "</table>\n",
              "<p>7800 rows × 8 columns</p>\n",
              "</div>"
            ],
            "text/plain": [
              "      Index               Agent  ... Close Date Year   days\n",
              "0         0       Corliss Cosme  ...            2016  141.0\n",
              "1         1     Rosalina Dieter  ...            2016  303.0\n",
              "2         2       Donn Cantrell  ...            2016  336.0\n",
              "3         3      James Ascencio  ...            2016  249.0\n",
              "4         4     Lajuana Vencill  ...            2016   24.0\n",
              "...     ...                 ...  ...             ...    ...\n",
              "7795   7795  Jonathan Berthelot  ...            2019  204.0\n",
              "7796   7796   Marty Freudenburg  ...            2019  147.0\n",
              "7797   7797       Anna Snelling  ...            2019  105.0\n",
              "7798   7798    Gladys Colclough  ...            2019  136.0\n",
              "7799   7799  Jonathan Berthelot  ...            2019  213.0\n",
              "\n",
              "[7800 rows x 8 columns]"
            ]
          },
          "metadata": {
            "tags": []
          },
          "execution_count": 371
        }
      ]
    },
    {
      "cell_type": "code",
      "metadata": {
        "colab": {
          "base_uri": "https://localhost:8080/"
        },
        "id": "WdM9MzM7N7b-",
        "outputId": "9b954ff4-e3e6-4115-cec7-a716e18f82c5"
      },
      "source": [
        "df.isnull().sum()"
      ],
      "execution_count": null,
      "outputs": [
        {
          "output_type": "execute_result",
          "data": {
            "text/plain": [
              "Index                0\n",
              "Agent                0\n",
              "Stage                0\n",
              "Product              0\n",
              "Close_Value          0\n",
              "Created Date Year    0\n",
              "Close Date Year      0\n",
              "days                 0\n",
              "dtype: int64"
            ]
          },
          "metadata": {
            "tags": []
          },
          "execution_count": 372
        }
      ]
    },
    {
      "cell_type": "code",
      "metadata": {
        "id": "QwQnUv72opdq"
      },
      "source": [
        "def get_stage(close_value, product, stage, df):\n",
        "  if stage != \"In Progress\":\n",
        "    return stage\n",
        "  min_value = df[df['Product'] == product][df['Stage'] == \"Won\"].quantile(.1)['Close_Value']\n",
        "  max_value = df[df['Product'] == product][df['Stage'] == \"Won\"].quantile(.9)['Close_Value']\n",
        "  if min_value < close_value and close_value < max_value:\n",
        "    return \"Won\"\n",
        "  return \"Lost\""
      ],
      "execution_count": null,
      "outputs": []
    },
    {
      "cell_type": "code",
      "metadata": {
        "colab": {
          "base_uri": "https://localhost:8080/"
        },
        "id": "c3S5irdPq_C6",
        "outputId": "914d0f27-a11c-49ef-a73a-7106db796c16"
      },
      "source": [
        "df['Stage'] = df.apply(lambda row : get_stage(row['Close_Value'], row['Product'], row['Stage'], df), axis = 1)"
      ],
      "execution_count": null,
      "outputs": [
        {
          "output_type": "stream",
          "text": [
            "/usr/local/lib/python3.7/dist-packages/ipykernel_launcher.py:4: UserWarning: Boolean Series key will be reindexed to match DataFrame index.\n",
            "  after removing the cwd from sys.path.\n",
            "/usr/local/lib/python3.7/dist-packages/ipykernel_launcher.py:5: UserWarning: Boolean Series key will be reindexed to match DataFrame index.\n",
            "  \"\"\"\n"
          ],
          "name": "stderr"
        }
      ]
    },
    {
      "cell_type": "code",
      "metadata": {
        "colab": {
          "base_uri": "https://localhost:8080/",
          "height": 502
        },
        "id": "GtSxmK-orzxR",
        "outputId": "063d9904-7ccf-4f7d-e9ba-5953a0ab1a3c"
      },
      "source": [
        "from sklearn import preprocessing\n",
        "labelEncoder = preprocessing.LabelEncoder()\n",
        "# df['SalesAgentEmailID'] = labelEncoder.fit_transform(df['SalesAgentEmailID'])\n",
        "# df['ContactEmailID'] = labelEncoder.fit_transform(df['ContactEmailID'])\n",
        "df['Stage'] = labelEncoder.fit_transform(df['Stage'])\n",
        "# df['Product'] = labelEncoder.fit_transform(df['Product'])\n",
        "# df['Created Date Year'] = labelEncoder.fit_transform(df['Created Date Year'])\n",
        "# df['Close Date Year'] = labelEncoder.fit_transform(df['Close Date Year'])\n",
        "# df['Close_Value'] = df['Close_Value'] * 100\n",
        "df"
      ],
      "execution_count": null,
      "outputs": [
        {
          "output_type": "execute_result",
          "data": {
            "text/html": [
              "<div>\n",
              "<style scoped>\n",
              "    .dataframe tbody tr th:only-of-type {\n",
              "        vertical-align: middle;\n",
              "    }\n",
              "\n",
              "    .dataframe tbody tr th {\n",
              "        vertical-align: top;\n",
              "    }\n",
              "\n",
              "    .dataframe thead th {\n",
              "        text-align: right;\n",
              "    }\n",
              "</style>\n",
              "<table border=\"1\" class=\"dataframe\">\n",
              "  <thead>\n",
              "    <tr style=\"text-align: right;\">\n",
              "      <th></th>\n",
              "      <th>Index</th>\n",
              "      <th>Agent</th>\n",
              "      <th>Stage</th>\n",
              "      <th>Product</th>\n",
              "      <th>Close_Value</th>\n",
              "      <th>Created Date Year</th>\n",
              "      <th>Close Date Year</th>\n",
              "      <th>days</th>\n",
              "    </tr>\n",
              "  </thead>\n",
              "  <tbody>\n",
              "    <tr>\n",
              "      <th>0</th>\n",
              "      <td>0</td>\n",
              "      <td>Corliss Cosme</td>\n",
              "      <td>1</td>\n",
              "      <td>GTX Plus Basic</td>\n",
              "      <td>1255.000000</td>\n",
              "      <td>2016</td>\n",
              "      <td>2016</td>\n",
              "      <td>141.0</td>\n",
              "    </tr>\n",
              "    <tr>\n",
              "      <th>1</th>\n",
              "      <td>1</td>\n",
              "      <td>Rosalina Dieter</td>\n",
              "      <td>1</td>\n",
              "      <td>MG Special</td>\n",
              "      <td>45.000000</td>\n",
              "      <td>2016</td>\n",
              "      <td>2016</td>\n",
              "      <td>303.0</td>\n",
              "    </tr>\n",
              "    <tr>\n",
              "      <th>2</th>\n",
              "      <td>2</td>\n",
              "      <td>Donn Cantrell</td>\n",
              "      <td>0</td>\n",
              "      <td>MG Special</td>\n",
              "      <td>1260.413793</td>\n",
              "      <td>2016</td>\n",
              "      <td>2016</td>\n",
              "      <td>336.0</td>\n",
              "    </tr>\n",
              "    <tr>\n",
              "      <th>3</th>\n",
              "      <td>3</td>\n",
              "      <td>James Ascencio</td>\n",
              "      <td>0</td>\n",
              "      <td>MG Advanced</td>\n",
              "      <td>1054.000000</td>\n",
              "      <td>2016</td>\n",
              "      <td>2016</td>\n",
              "      <td>249.0</td>\n",
              "    </tr>\n",
              "    <tr>\n",
              "      <th>4</th>\n",
              "      <td>4</td>\n",
              "      <td>Lajuana Vencill</td>\n",
              "      <td>1</td>\n",
              "      <td>MG Advanced</td>\n",
              "      <td>3180.000000</td>\n",
              "      <td>2016</td>\n",
              "      <td>2016</td>\n",
              "      <td>24.0</td>\n",
              "    </tr>\n",
              "    <tr>\n",
              "      <th>...</th>\n",
              "      <td>...</td>\n",
              "      <td>...</td>\n",
              "      <td>...</td>\n",
              "      <td>...</td>\n",
              "      <td>...</td>\n",
              "      <td>...</td>\n",
              "      <td>...</td>\n",
              "      <td>...</td>\n",
              "    </tr>\n",
              "    <tr>\n",
              "      <th>7795</th>\n",
              "      <td>7795</td>\n",
              "      <td>Jonathan Berthelot</td>\n",
              "      <td>1</td>\n",
              "      <td>GTX Basic</td>\n",
              "      <td>590.000000</td>\n",
              "      <td>2018</td>\n",
              "      <td>2019</td>\n",
              "      <td>204.0</td>\n",
              "    </tr>\n",
              "    <tr>\n",
              "      <th>7796</th>\n",
              "      <td>7796</td>\n",
              "      <td>Marty Freudenburg</td>\n",
              "      <td>1</td>\n",
              "      <td>MG Advanced</td>\n",
              "      <td>3284.000000</td>\n",
              "      <td>2018</td>\n",
              "      <td>2019</td>\n",
              "      <td>147.0</td>\n",
              "    </tr>\n",
              "    <tr>\n",
              "      <th>7797</th>\n",
              "      <td>7797</td>\n",
              "      <td>Anna Snelling</td>\n",
              "      <td>0</td>\n",
              "      <td>GTX Plus Pro</td>\n",
              "      <td>300.000000</td>\n",
              "      <td>2018</td>\n",
              "      <td>2019</td>\n",
              "      <td>105.0</td>\n",
              "    </tr>\n",
              "    <tr>\n",
              "      <th>7798</th>\n",
              "      <td>7798</td>\n",
              "      <td>Gladys Colclough</td>\n",
              "      <td>0</td>\n",
              "      <td>MG Special</td>\n",
              "      <td>3284.000000</td>\n",
              "      <td>2018</td>\n",
              "      <td>2019</td>\n",
              "      <td>136.0</td>\n",
              "    </tr>\n",
              "    <tr>\n",
              "      <th>7799</th>\n",
              "      <td>7799</td>\n",
              "      <td>Jonathan Berthelot</td>\n",
              "      <td>0</td>\n",
              "      <td>MG Special</td>\n",
              "      <td>1014.000000</td>\n",
              "      <td>2018</td>\n",
              "      <td>2019</td>\n",
              "      <td>213.0</td>\n",
              "    </tr>\n",
              "  </tbody>\n",
              "</table>\n",
              "<p>7800 rows × 8 columns</p>\n",
              "</div>"
            ],
            "text/plain": [
              "      Index               Agent  ...  Close Date Year   days\n",
              "0         0       Corliss Cosme  ...             2016  141.0\n",
              "1         1     Rosalina Dieter  ...             2016  303.0\n",
              "2         2       Donn Cantrell  ...             2016  336.0\n",
              "3         3      James Ascencio  ...             2016  249.0\n",
              "4         4     Lajuana Vencill  ...             2016   24.0\n",
              "...     ...                 ...  ...              ...    ...\n",
              "7795   7795  Jonathan Berthelot  ...             2019  204.0\n",
              "7796   7796   Marty Freudenburg  ...             2019  147.0\n",
              "7797   7797       Anna Snelling  ...             2019  105.0\n",
              "7798   7798    Gladys Colclough  ...             2019  136.0\n",
              "7799   7799  Jonathan Berthelot  ...             2019  213.0\n",
              "\n",
              "[7800 rows x 8 columns]"
            ]
          },
          "metadata": {
            "tags": []
          },
          "execution_count": 375
        }
      ]
    },
    {
      "cell_type": "code",
      "metadata": {
        "id": "VfupEqM3aFjq"
      },
      "source": [
        "# one_to_hot = preprocessing.OneHotEncoder(handle_unknown='ignore')\n",
        "# product_df = pd.DataFrame(one_to_hot.fit_transform(df[['Product']]).toarray())\n",
        "# #2: GTX Plus Basic, 6:MG Special, 5:MG Advanced, 3: GTX Plus Pro, 1:GTX Basic, 0:GTK 500, 4:GTXPro\n",
        "# product_df.columns = ['GTK 500', 'GTX Basic', 'GTX Plus Basic', 'GTX Plus Pro', \n",
        "#                       'GTXPro', 'MG Advanced', 'MG Special']\n",
        "# df = df.join(product_df)\n",
        "# df.drop('Product', axis='columns', inplace=True)"
      ],
      "execution_count": null,
      "outputs": []
    },
    {
      "cell_type": "code",
      "metadata": {
        "id": "ZFwLK7VBaIst"
      },
      "source": [
        "# from sklearn.feature_extraction import FeatureHasher\n",
        "# hashEncoder = FeatureHasher(n_features=6, input_type='string')\n",
        "# agent_df = pd.DataFrame(hashEncoder.transform(df['SalesAgentEmailID']).toarray())\n",
        "# agent_df.columns = ['agent_0', 'agent_1', 'agent_2', 'agent_3', 'agent_4', 'agent_5']\n",
        "# df = df.join(agent_df)\n",
        "# df.drop('SalesAgentEmailID', axis='columns', inplace=True)"
      ],
      "execution_count": null,
      "outputs": []
    },
    {
      "cell_type": "code",
      "metadata": {
        "colab": {
          "base_uri": "https://localhost:8080/"
        },
        "id": "BHAuE33a9pJr",
        "outputId": "b4cdf53d-d0bd-413f-8883-0819241d03e0"
      },
      "source": [
        "\n",
        "choices = list()\n",
        "close_years = list(df['Close Date Year'].unique())\n",
        "print(len(close_years))\n",
        "create_years = list(df['Created Date Year'].unique())\n",
        "print(len(create_years))\n",
        "stages = list(df['Stage'].unique())\n",
        "print(len(stages))\n",
        "agents = list(df['Agent'].unique())\n",
        "print(len(agents))\n",
        "products = list(df['Product'].unique())\n",
        "print(len(products))\n",
        "remaind = pd.DataFrame()\n",
        "for product in products:\n",
        "  pro_df = df[df['Product']==product]\n",
        "  for stage in stages:\n",
        "    pro_st_df = pro_df[pro_df['Stage']==stage]\n",
        "    for create_year in create_years:\n",
        "      p_st_c_df = pro_st_df[pro_st_df['Created Date Year']==create_year]\n",
        "      for close_year in close_years:\n",
        "        p_s_c2_df = p_st_c_df[p_st_c_df['Close Date Year']==close_year]\n",
        "        for agent in agents:\n",
        "          a_p_s_c2_df = p_s_c2_df[p_s_c2_df['Agent']==agent]\n",
        "          d = pd.DataFrame()\n",
        "          d = pd.concat([d, a_p_s_c2_df])\n",
        "          if len(d) > 1 :\n",
        "            choices.append(d)\n",
        "          elif len(d) == 1:\n",
        "            remaind = pd.concat([d, remaind])\n",
        "choices.append(remaind)\n",
        "len(choices)"
      ],
      "execution_count": null,
      "outputs": [
        {
          "output_type": "stream",
          "text": [
            "4\n",
            "3\n",
            "2\n",
            "30\n",
            "7\n"
          ],
          "name": "stdout"
        },
        {
          "output_type": "execute_result",
          "data": {
            "text/plain": [
              "1093"
            ]
          },
          "metadata": {
            "tags": []
          },
          "execution_count": 378
        }
      ]
    },
    {
      "cell_type": "code",
      "metadata": {
        "id": "Ic6E9CjTANa2"
      },
      "source": [
        "from sklearn.model_selection import train_test_split"
      ],
      "execution_count": null,
      "outputs": []
    },
    {
      "cell_type": "code",
      "metadata": {
        "id": "wLPliFWeAWqB"
      },
      "source": [
        "val_x_data = pd.DataFrame()\n",
        "val_y_data = list()\n",
        "train_x_data = pd.DataFrame()\n",
        "train_y_data = list()"
      ],
      "execution_count": null,
      "outputs": []
    },
    {
      "cell_type": "code",
      "metadata": {
        "id": "L0YFkhojAr__"
      },
      "source": [
        "for choice in choices:\n",
        "  x = choice.drop('Stage', axis=1)\n",
        "  x = x.drop('Index', axis=1)\n",
        "  y=choice[\"Stage\"]\n",
        "  x_train, x_test, y_train, y_test = train_test_split(x, y, \n",
        "                                                    train_size=0.8, \n",
        "                                                    random_state=42)\n",
        "  train_x_data=train_x_data.append(x_train)\n",
        "  train_y_data+=(y_train.tolist())\n",
        "  val_x_data=val_x_data.append(x_test)\n",
        "  val_y_data+=y_test.tolist()"
      ],
      "execution_count": null,
      "outputs": []
    },
    {
      "cell_type": "code",
      "metadata": {
        "colab": {
          "base_uri": "https://localhost:8080/"
        },
        "id": "bSM29vHLNmIE",
        "outputId": "31bdbd27-5b19-464b-dfe2-a61fdaf761ca"
      },
      "source": [
        "train_x_data.shape, len(train_y_data), val_x_data.shape, len(val_y_data)"
      ],
      "execution_count": null,
      "outputs": [
        {
          "output_type": "execute_result",
          "data": {
            "text/plain": [
              "((5791, 6), 5791, (2009, 6), 2009)"
            ]
          },
          "metadata": {
            "tags": []
          },
          "execution_count": 382
        }
      ]
    },
    {
      "cell_type": "code",
      "metadata": {
        "id": "W62SK3IBmu5P"
      },
      "source": [
        "train_x_data.reset_index(inplace=True)\n",
        "val_x_data.reset_index(inplace=True)"
      ],
      "execution_count": null,
      "outputs": []
    },
    {
      "cell_type": "code",
      "metadata": {
        "colab": {
          "base_uri": "https://localhost:8080/"
        },
        "id": "Xjo04fagMZNT",
        "outputId": "955b42c5-02c3-436c-d083-45dc18e78515"
      },
      "source": [
        "for var in ['Product', 'Created Date Year', 'Close Date Year', 'Agent']: \n",
        "    \n",
        "    print(val_x_data[var].value_counts())\n",
        "# print(\")))))))))))))))))))))))))))))))))))))))))))))))))\")\n",
        "# print(train_y_data)\n",
        "# print(train_x_data)"
      ],
      "execution_count": null,
      "outputs": [
        {
          "output_type": "stream",
          "text": [
            "GTX Basic         414\n",
            "MG Special        373\n",
            "GTXPro            329\n",
            "MG Advanced       326\n",
            "GTX Plus Basic    319\n",
            "GTX Plus Pro      235\n",
            "GTK 500            13\n",
            "Name: Product, dtype: int64\n",
            "2017    1761\n",
            "2018     144\n",
            "2016     104\n",
            "Name: Created Date Year, dtype: int64\n",
            "2017    754\n",
            "2019    605\n",
            "2018    564\n",
            "2016     86\n",
            "Name: Close Date Year, dtype: int64\n",
            "Darcel Schlecht       154\n",
            "Anna Snelling          99\n",
            "Vicki Laflamme         96\n",
            "Kary Hendrixson        94\n",
            "Versie Hillebrand      84\n",
            "                     ... \n",
            "Elease Gluck           43\n",
            "Rosie Papadopoulos     41\n",
            "Rosalina Dieter        40\n",
            "Wilburn Farren         34\n",
            "Garret Kinder          29\n",
            "Name: Agent, Length: 30, dtype: int64\n"
          ],
          "name": "stdout"
        }
      ]
    },
    {
      "cell_type": "code",
      "metadata": {
        "colab": {
          "base_uri": "https://localhost:8080/"
        },
        "id": "7zwOeuYILBPy",
        "outputId": "92f62c1c-f836-4be8-8b0b-89c354c43477"
      },
      "source": [
        "print(train_x_data.count())\n",
        "print(val_x_data.count())\n",
        "print(df.count())"
      ],
      "execution_count": null,
      "outputs": [
        {
          "output_type": "stream",
          "text": [
            "index                5791\n",
            "Agent                5791\n",
            "Product              5791\n",
            "Close_Value          5791\n",
            "Created Date Year    5791\n",
            "Close Date Year      5791\n",
            "days                 5791\n",
            "dtype: int64\n",
            "index                2009\n",
            "Agent                2009\n",
            "Product              2009\n",
            "Close_Value          2009\n",
            "Created Date Year    2009\n",
            "Close Date Year      2009\n",
            "days                 2009\n",
            "dtype: int64\n",
            "Index                7800\n",
            "Agent                7800\n",
            "Stage                7800\n",
            "Product              7800\n",
            "Close_Value          7800\n",
            "Created Date Year    7800\n",
            "Close Date Year      7800\n",
            "days                 7800\n",
            "dtype: int64\n"
          ],
          "name": "stdout"
        }
      ]
    },
    {
      "cell_type": "code",
      "metadata": {
        "colab": {
          "base_uri": "https://localhost:8080/"
        },
        "id": "XqT5E-MXdlRB",
        "outputId": "a9bc46d3-4e1e-4748-82bb-31ffde3c822a"
      },
      "source": [
        "df['Product'].unique().reshape(-1,1)\n",
        "# train_x_data.drop('SalesAgentEmailID', axis='columns', inplace=True)\n",
        "# val_x_data.drop('SalesAgentEmailID', axis='columns', inplace=True)"
      ],
      "execution_count": null,
      "outputs": [
        {
          "output_type": "execute_result",
          "data": {
            "text/plain": [
              "array([['GTX Plus Basic'],\n",
              "       ['MG Special'],\n",
              "       ['MG Advanced'],\n",
              "       ['GTX Basic'],\n",
              "       ['GTXPro'],\n",
              "       ['GTX Plus Pro'],\n",
              "       ['GTK 500']], dtype=object)"
            ]
          },
          "metadata": {
            "tags": []
          },
          "execution_count": 386
        }
      ]
    },
    {
      "cell_type": "code",
      "metadata": {
        "colab": {
          "base_uri": "https://localhost:8080/",
          "height": 678
        },
        "id": "EfnJrxxxbEaj",
        "outputId": "cd785a70-f187-455b-ddae-68df862dc4b4"
      },
      "source": [
        "one_to_hot = preprocessing.OneHotEncoder()\n",
        "one_to_hot.fit(df['Product'].unique().reshape(-1,1))\n",
        "print(one_to_hot.get_feature_names())\n",
        "product_df = pd.DataFrame(one_to_hot.transform(train_x_data[['Product']]).toarray())\n",
        "\n",
        "#2: GTX Plus Basic, 6:MG Special, 5:MG Advanced, 3: GTX Plus Pro, 1:GTX Basic, 0:GTK 500, 4:GTXPro\n",
        "product_df.columns = ['GTK 500', 'GTX Basic', 'GTX Plus Basic', 'GTX Plus Pro', \n",
        "                      'GTXPro', 'MG Advanced', 'MG Special']\n",
        "\n",
        "train_x_data = train_x_data.join(product_df)\n",
        "train_x_data.drop('Product', axis='columns', inplace=True)\n",
        "\n",
        "################################################\n",
        "product_df = pd.DataFrame(one_to_hot.transform(val_x_data[['Product']]).toarray())\n",
        "#2: GTX Plus Basic, 6:MG Special, 5:MG Advanced, 3: GTX Plus Pro, 1:GTX Basic, 0:GTK 500, 4:GTXPro\n",
        "product_df.columns = ['GTK 500', 'GTX Basic', 'GTX Plus Basic', 'GTX Plus Pro', \n",
        "                      'GTXPro', 'MG Advanced', 'MG Special']\n",
        "val_x_data = val_x_data.join(product_df)\n",
        "val_x_data.drop('Product', axis='columns', inplace=True)\n",
        "train_x_data"
      ],
      "execution_count": null,
      "outputs": [
        {
          "output_type": "stream",
          "text": [
            "['x0_GTK 500' 'x0_GTX Basic' 'x0_GTX Plus Basic' 'x0_GTX Plus Pro'\n",
            " 'x0_GTXPro' 'x0_MG Advanced' 'x0_MG Special']\n"
          ],
          "name": "stdout"
        },
        {
          "output_type": "execute_result",
          "data": {
            "text/html": [
              "<div>\n",
              "<style scoped>\n",
              "    .dataframe tbody tr th:only-of-type {\n",
              "        vertical-align: middle;\n",
              "    }\n",
              "\n",
              "    .dataframe tbody tr th {\n",
              "        vertical-align: top;\n",
              "    }\n",
              "\n",
              "    .dataframe thead th {\n",
              "        text-align: right;\n",
              "    }\n",
              "</style>\n",
              "<table border=\"1\" class=\"dataframe\">\n",
              "  <thead>\n",
              "    <tr style=\"text-align: right;\">\n",
              "      <th></th>\n",
              "      <th>index</th>\n",
              "      <th>Agent</th>\n",
              "      <th>Close_Value</th>\n",
              "      <th>Created Date Year</th>\n",
              "      <th>Close Date Year</th>\n",
              "      <th>days</th>\n",
              "      <th>GTK 500</th>\n",
              "      <th>GTX Basic</th>\n",
              "      <th>GTX Plus Basic</th>\n",
              "      <th>GTX Plus Pro</th>\n",
              "      <th>GTXPro</th>\n",
              "      <th>MG Advanced</th>\n",
              "      <th>MG Special</th>\n",
              "    </tr>\n",
              "  </thead>\n",
              "  <tbody>\n",
              "    <tr>\n",
              "      <th>0</th>\n",
              "      <td>0</td>\n",
              "      <td>Corliss Cosme</td>\n",
              "      <td>1255.0</td>\n",
              "      <td>2016</td>\n",
              "      <td>2016</td>\n",
              "      <td>141.0</td>\n",
              "      <td>0.0</td>\n",
              "      <td>0.0</td>\n",
              "      <td>1.0</td>\n",
              "      <td>0.0</td>\n",
              "      <td>0.0</td>\n",
              "      <td>0.0</td>\n",
              "      <td>0.0</td>\n",
              "    </tr>\n",
              "    <tr>\n",
              "      <th>1</th>\n",
              "      <td>64</td>\n",
              "      <td>Kary Hendrixson</td>\n",
              "      <td>988.0</td>\n",
              "      <td>2016</td>\n",
              "      <td>2016</td>\n",
              "      <td>65.0</td>\n",
              "      <td>0.0</td>\n",
              "      <td>0.0</td>\n",
              "      <td>1.0</td>\n",
              "      <td>0.0</td>\n",
              "      <td>0.0</td>\n",
              "      <td>0.0</td>\n",
              "      <td>0.0</td>\n",
              "    </tr>\n",
              "    <tr>\n",
              "      <th>2</th>\n",
              "      <td>78</td>\n",
              "      <td>Darcel Schlecht</td>\n",
              "      <td>1161.0</td>\n",
              "      <td>2016</td>\n",
              "      <td>2016</td>\n",
              "      <td>141.0</td>\n",
              "      <td>0.0</td>\n",
              "      <td>0.0</td>\n",
              "      <td>1.0</td>\n",
              "      <td>0.0</td>\n",
              "      <td>0.0</td>\n",
              "      <td>0.0</td>\n",
              "      <td>0.0</td>\n",
              "    </tr>\n",
              "    <tr>\n",
              "      <th>3</th>\n",
              "      <td>101</td>\n",
              "      <td>Daniell Hammack</td>\n",
              "      <td>1037.0</td>\n",
              "      <td>2016</td>\n",
              "      <td>2016</td>\n",
              "      <td>38.0</td>\n",
              "      <td>0.0</td>\n",
              "      <td>0.0</td>\n",
              "      <td>1.0</td>\n",
              "      <td>0.0</td>\n",
              "      <td>0.0</td>\n",
              "      <td>0.0</td>\n",
              "      <td>0.0</td>\n",
              "    </tr>\n",
              "    <tr>\n",
              "      <th>4</th>\n",
              "      <td>204</td>\n",
              "      <td>Hayden Neloms</td>\n",
              "      <td>1108.0</td>\n",
              "      <td>2016</td>\n",
              "      <td>2016</td>\n",
              "      <td>59.0</td>\n",
              "      <td>0.0</td>\n",
              "      <td>0.0</td>\n",
              "      <td>1.0</td>\n",
              "      <td>0.0</td>\n",
              "      <td>0.0</td>\n",
              "      <td>0.0</td>\n",
              "      <td>0.0</td>\n",
              "    </tr>\n",
              "    <tr>\n",
              "      <th>...</th>\n",
              "      <td>...</td>\n",
              "      <td>...</td>\n",
              "      <td>...</td>\n",
              "      <td>...</td>\n",
              "      <td>...</td>\n",
              "      <td>...</td>\n",
              "      <td>...</td>\n",
              "      <td>...</td>\n",
              "      <td>...</td>\n",
              "      <td>...</td>\n",
              "      <td>...</td>\n",
              "      <td>...</td>\n",
              "      <td>...</td>\n",
              "    </tr>\n",
              "    <tr>\n",
              "      <th>5786</th>\n",
              "      <td>7440</td>\n",
              "      <td>Niesha Huffines</td>\n",
              "      <td>493.0</td>\n",
              "      <td>2018</td>\n",
              "      <td>2019</td>\n",
              "      <td>537.0</td>\n",
              "      <td>0.0</td>\n",
              "      <td>1.0</td>\n",
              "      <td>0.0</td>\n",
              "      <td>0.0</td>\n",
              "      <td>0.0</td>\n",
              "      <td>0.0</td>\n",
              "      <td>0.0</td>\n",
              "    </tr>\n",
              "    <tr>\n",
              "      <th>5787</th>\n",
              "      <td>2996</td>\n",
              "      <td>Hayden Neloms</td>\n",
              "      <td>560.0</td>\n",
              "      <td>2017</td>\n",
              "      <td>2019</td>\n",
              "      <td>764.0</td>\n",
              "      <td>0.0</td>\n",
              "      <td>0.0</td>\n",
              "      <td>0.0</td>\n",
              "      <td>1.0</td>\n",
              "      <td>0.0</td>\n",
              "      <td>0.0</td>\n",
              "      <td>0.0</td>\n",
              "    </tr>\n",
              "    <tr>\n",
              "      <th>5788</th>\n",
              "      <td>2802</td>\n",
              "      <td>Versie Hillebrand</td>\n",
              "      <td>1037.0</td>\n",
              "      <td>2017</td>\n",
              "      <td>2019</td>\n",
              "      <td>943.0</td>\n",
              "      <td>0.0</td>\n",
              "      <td>1.0</td>\n",
              "      <td>0.0</td>\n",
              "      <td>0.0</td>\n",
              "      <td>0.0</td>\n",
              "      <td>0.0</td>\n",
              "      <td>0.0</td>\n",
              "    </tr>\n",
              "    <tr>\n",
              "      <th>5789</th>\n",
              "      <td>222</td>\n",
              "      <td>Markita Hansen</td>\n",
              "      <td>61.0</td>\n",
              "      <td>2016</td>\n",
              "      <td>2016</td>\n",
              "      <td>114.0</td>\n",
              "      <td>0.0</td>\n",
              "      <td>0.0</td>\n",
              "      <td>0.0</td>\n",
              "      <td>0.0</td>\n",
              "      <td>0.0</td>\n",
              "      <td>0.0</td>\n",
              "      <td>1.0</td>\n",
              "    </tr>\n",
              "    <tr>\n",
              "      <th>5790</th>\n",
              "      <td>24</td>\n",
              "      <td>Vicki Laflamme</td>\n",
              "      <td>537.0</td>\n",
              "      <td>2016</td>\n",
              "      <td>2016</td>\n",
              "      <td>90.0</td>\n",
              "      <td>0.0</td>\n",
              "      <td>1.0</td>\n",
              "      <td>0.0</td>\n",
              "      <td>0.0</td>\n",
              "      <td>0.0</td>\n",
              "      <td>0.0</td>\n",
              "      <td>0.0</td>\n",
              "    </tr>\n",
              "  </tbody>\n",
              "</table>\n",
              "<p>5791 rows × 13 columns</p>\n",
              "</div>"
            ],
            "text/plain": [
              "      index              Agent  Close_Value  ...  GTXPro  MG Advanced  MG Special\n",
              "0         0      Corliss Cosme       1255.0  ...     0.0          0.0         0.0\n",
              "1        64    Kary Hendrixson        988.0  ...     0.0          0.0         0.0\n",
              "2        78    Darcel Schlecht       1161.0  ...     0.0          0.0         0.0\n",
              "3       101    Daniell Hammack       1037.0  ...     0.0          0.0         0.0\n",
              "4       204      Hayden Neloms       1108.0  ...     0.0          0.0         0.0\n",
              "...     ...                ...          ...  ...     ...          ...         ...\n",
              "5786   7440    Niesha Huffines        493.0  ...     0.0          0.0         0.0\n",
              "5787   2996      Hayden Neloms        560.0  ...     0.0          0.0         0.0\n",
              "5788   2802  Versie Hillebrand       1037.0  ...     0.0          0.0         0.0\n",
              "5789    222     Markita Hansen         61.0  ...     0.0          0.0         1.0\n",
              "5790     24     Vicki Laflamme        537.0  ...     0.0          0.0         0.0\n",
              "\n",
              "[5791 rows x 13 columns]"
            ]
          },
          "metadata": {
            "tags": []
          },
          "execution_count": 387
        }
      ]
    },
    {
      "cell_type": "code",
      "metadata": {
        "colab": {
          "base_uri": "https://localhost:8080/",
          "height": 415
        },
        "id": "2MkpDfARmN5k",
        "outputId": "c2cff027-54cb-4777-8a97-6b8e3eddfc0b"
      },
      "source": [
        "pd.set_option('display.max_rows', 10)\n",
        "product_df"
      ],
      "execution_count": null,
      "outputs": [
        {
          "output_type": "execute_result",
          "data": {
            "text/html": [
              "<div>\n",
              "<style scoped>\n",
              "    .dataframe tbody tr th:only-of-type {\n",
              "        vertical-align: middle;\n",
              "    }\n",
              "\n",
              "    .dataframe tbody tr th {\n",
              "        vertical-align: top;\n",
              "    }\n",
              "\n",
              "    .dataframe thead th {\n",
              "        text-align: right;\n",
              "    }\n",
              "</style>\n",
              "<table border=\"1\" class=\"dataframe\">\n",
              "  <thead>\n",
              "    <tr style=\"text-align: right;\">\n",
              "      <th></th>\n",
              "      <th>GTK 500</th>\n",
              "      <th>GTX Basic</th>\n",
              "      <th>GTX Plus Basic</th>\n",
              "      <th>GTX Plus Pro</th>\n",
              "      <th>GTXPro</th>\n",
              "      <th>MG Advanced</th>\n",
              "      <th>MG Special</th>\n",
              "    </tr>\n",
              "  </thead>\n",
              "  <tbody>\n",
              "    <tr>\n",
              "      <th>0</th>\n",
              "      <td>0.0</td>\n",
              "      <td>0.0</td>\n",
              "      <td>1.0</td>\n",
              "      <td>0.0</td>\n",
              "      <td>0.0</td>\n",
              "      <td>0.0</td>\n",
              "      <td>0.0</td>\n",
              "    </tr>\n",
              "    <tr>\n",
              "      <th>1</th>\n",
              "      <td>0.0</td>\n",
              "      <td>0.0</td>\n",
              "      <td>1.0</td>\n",
              "      <td>0.0</td>\n",
              "      <td>0.0</td>\n",
              "      <td>0.0</td>\n",
              "      <td>0.0</td>\n",
              "    </tr>\n",
              "    <tr>\n",
              "      <th>2</th>\n",
              "      <td>0.0</td>\n",
              "      <td>0.0</td>\n",
              "      <td>1.0</td>\n",
              "      <td>0.0</td>\n",
              "      <td>0.0</td>\n",
              "      <td>0.0</td>\n",
              "      <td>0.0</td>\n",
              "    </tr>\n",
              "    <tr>\n",
              "      <th>3</th>\n",
              "      <td>0.0</td>\n",
              "      <td>0.0</td>\n",
              "      <td>1.0</td>\n",
              "      <td>0.0</td>\n",
              "      <td>0.0</td>\n",
              "      <td>0.0</td>\n",
              "      <td>0.0</td>\n",
              "    </tr>\n",
              "    <tr>\n",
              "      <th>4</th>\n",
              "      <td>0.0</td>\n",
              "      <td>0.0</td>\n",
              "      <td>1.0</td>\n",
              "      <td>0.0</td>\n",
              "      <td>0.0</td>\n",
              "      <td>0.0</td>\n",
              "      <td>0.0</td>\n",
              "    </tr>\n",
              "    <tr>\n",
              "      <th>...</th>\n",
              "      <td>...</td>\n",
              "      <td>...</td>\n",
              "      <td>...</td>\n",
              "      <td>...</td>\n",
              "      <td>...</td>\n",
              "      <td>...</td>\n",
              "      <td>...</td>\n",
              "    </tr>\n",
              "    <tr>\n",
              "      <th>2004</th>\n",
              "      <td>0.0</td>\n",
              "      <td>0.0</td>\n",
              "      <td>0.0</td>\n",
              "      <td>0.0</td>\n",
              "      <td>0.0</td>\n",
              "      <td>0.0</td>\n",
              "      <td>1.0</td>\n",
              "    </tr>\n",
              "    <tr>\n",
              "      <th>2005</th>\n",
              "      <td>0.0</td>\n",
              "      <td>0.0</td>\n",
              "      <td>0.0</td>\n",
              "      <td>1.0</td>\n",
              "      <td>0.0</td>\n",
              "      <td>0.0</td>\n",
              "      <td>0.0</td>\n",
              "    </tr>\n",
              "    <tr>\n",
              "      <th>2006</th>\n",
              "      <td>0.0</td>\n",
              "      <td>0.0</td>\n",
              "      <td>0.0</td>\n",
              "      <td>0.0</td>\n",
              "      <td>0.0</td>\n",
              "      <td>1.0</td>\n",
              "      <td>0.0</td>\n",
              "    </tr>\n",
              "    <tr>\n",
              "      <th>2007</th>\n",
              "      <td>0.0</td>\n",
              "      <td>0.0</td>\n",
              "      <td>0.0</td>\n",
              "      <td>0.0</td>\n",
              "      <td>0.0</td>\n",
              "      <td>0.0</td>\n",
              "      <td>1.0</td>\n",
              "    </tr>\n",
              "    <tr>\n",
              "      <th>2008</th>\n",
              "      <td>0.0</td>\n",
              "      <td>0.0</td>\n",
              "      <td>0.0</td>\n",
              "      <td>0.0</td>\n",
              "      <td>0.0</td>\n",
              "      <td>0.0</td>\n",
              "      <td>1.0</td>\n",
              "    </tr>\n",
              "  </tbody>\n",
              "</table>\n",
              "<p>2009 rows × 7 columns</p>\n",
              "</div>"
            ],
            "text/plain": [
              "      GTK 500  GTX Basic  GTX Plus Basic  ...  GTXPro  MG Advanced  MG Special\n",
              "0         0.0        0.0             1.0  ...     0.0          0.0         0.0\n",
              "1         0.0        0.0             1.0  ...     0.0          0.0         0.0\n",
              "2         0.0        0.0             1.0  ...     0.0          0.0         0.0\n",
              "3         0.0        0.0             1.0  ...     0.0          0.0         0.0\n",
              "4         0.0        0.0             1.0  ...     0.0          0.0         0.0\n",
              "...       ...        ...             ...  ...     ...          ...         ...\n",
              "2004      0.0        0.0             0.0  ...     0.0          0.0         1.0\n",
              "2005      0.0        0.0             0.0  ...     0.0          0.0         0.0\n",
              "2006      0.0        0.0             0.0  ...     0.0          1.0         0.0\n",
              "2007      0.0        0.0             0.0  ...     0.0          0.0         1.0\n",
              "2008      0.0        0.0             0.0  ...     0.0          0.0         1.0\n",
              "\n",
              "[2009 rows x 7 columns]"
            ]
          },
          "metadata": {
            "tags": []
          },
          "execution_count": 388
        }
      ]
    },
    {
      "cell_type": "code",
      "metadata": {
        "id": "r1nksqixboT7"
      },
      "source": [
        "from sklearn.feature_extraction import FeatureHasher\n",
        "hashEncoder = FeatureHasher(n_features=6, input_type='string')\n",
        "hashEncoder.fit(list(df['Agent'].unique()))\n",
        "\n",
        "agent_df = pd.DataFrame(hashEncoder.transform(train_x_data['Agent']).toarray())\n",
        "agent_df.columns = ['agent_0', 'agent_1', 'agent_2', 'agent_3', 'agent_4', 'agent_5']\n",
        "train_x_data = train_x_data.join(agent_df)\n",
        "train_x_data.drop('Agent', axis='columns', inplace=True)\n",
        "\n",
        "\n",
        "#########################3\n",
        "agent_df = pd.DataFrame(hashEncoder.transform(val_x_data['Agent']).toarray())\n",
        "agent_df.columns = ['agent_0', 'agent_1', 'agent_2', 'agent_3', 'agent_4', 'agent_5']\n",
        "val_x_data = val_x_data.join(agent_df)\n",
        "val_x_data.drop('Agent', axis='columns', inplace=True)\n"
      ],
      "execution_count": null,
      "outputs": []
    },
    {
      "cell_type": "code",
      "metadata": {
        "id": "EUzsPpmtsmxU"
      },
      "source": [
        "# x = df.drop('Stage', axis=1)\n",
        "# x = x.drop('Index', axis=1)\n",
        "# y = df[\"Stage\"]\n",
        "# x.shape"
      ],
      "execution_count": null,
      "outputs": []
    },
    {
      "cell_type": "code",
      "metadata": {
        "id": "e0Y41VxItcdi"
      },
      "source": [
        "# from sklearn.model_selection import train_test_split\n",
        "\n",
        "# x_train, x_test, y_train, y_test = train_test_split(x, y, \n",
        "#                                                     train_size=0.8, \n",
        "#                                                     random_state=42)"
      ],
      "execution_count": null,
      "outputs": []
    },
    {
      "cell_type": "code",
      "metadata": {
        "id": "O_BDbgnJthwH"
      },
      "source": [
        "# x_train.shape"
      ],
      "execution_count": null,
      "outputs": []
    },
    {
      "cell_type": "code",
      "metadata": {
        "id": "lYi7ik_ntsvi"
      },
      "source": [
        "from sklearn.tree import DecisionTreeClassifier\n",
        "from sklearn import tree"
      ],
      "execution_count": null,
      "outputs": []
    },
    {
      "cell_type": "code",
      "metadata": {
        "colab": {
          "base_uri": "https://localhost:8080/",
          "height": 470
        },
        "id": "uyYoHctVgsX8",
        "outputId": "69709485-2999-4c2c-ad92-8760fee01376"
      },
      "source": [
        "train_x_data"
      ],
      "execution_count": null,
      "outputs": [
        {
          "output_type": "execute_result",
          "data": {
            "text/html": [
              "<div>\n",
              "<style scoped>\n",
              "    .dataframe tbody tr th:only-of-type {\n",
              "        vertical-align: middle;\n",
              "    }\n",
              "\n",
              "    .dataframe tbody tr th {\n",
              "        vertical-align: top;\n",
              "    }\n",
              "\n",
              "    .dataframe thead th {\n",
              "        text-align: right;\n",
              "    }\n",
              "</style>\n",
              "<table border=\"1\" class=\"dataframe\">\n",
              "  <thead>\n",
              "    <tr style=\"text-align: right;\">\n",
              "      <th></th>\n",
              "      <th>index</th>\n",
              "      <th>Close_Value</th>\n",
              "      <th>Created Date Year</th>\n",
              "      <th>Close Date Year</th>\n",
              "      <th>days</th>\n",
              "      <th>GTK 500</th>\n",
              "      <th>GTX Basic</th>\n",
              "      <th>GTX Plus Basic</th>\n",
              "      <th>GTX Plus Pro</th>\n",
              "      <th>GTXPro</th>\n",
              "      <th>MG Advanced</th>\n",
              "      <th>MG Special</th>\n",
              "      <th>agent_0</th>\n",
              "      <th>agent_1</th>\n",
              "      <th>agent_2</th>\n",
              "      <th>agent_3</th>\n",
              "      <th>agent_4</th>\n",
              "      <th>agent_5</th>\n",
              "    </tr>\n",
              "  </thead>\n",
              "  <tbody>\n",
              "    <tr>\n",
              "      <th>0</th>\n",
              "      <td>0</td>\n",
              "      <td>1255.0</td>\n",
              "      <td>2016</td>\n",
              "      <td>2016</td>\n",
              "      <td>141.0</td>\n",
              "      <td>0.0</td>\n",
              "      <td>0.0</td>\n",
              "      <td>1.0</td>\n",
              "      <td>0.0</td>\n",
              "      <td>0.0</td>\n",
              "      <td>0.0</td>\n",
              "      <td>0.0</td>\n",
              "      <td>0.0</td>\n",
              "      <td>4.0</td>\n",
              "      <td>2.0</td>\n",
              "      <td>-6.0</td>\n",
              "      <td>1.0</td>\n",
              "      <td>0.0</td>\n",
              "    </tr>\n",
              "    <tr>\n",
              "      <th>1</th>\n",
              "      <td>64</td>\n",
              "      <td>988.0</td>\n",
              "      <td>2016</td>\n",
              "      <td>2016</td>\n",
              "      <td>65.0</td>\n",
              "      <td>0.0</td>\n",
              "      <td>0.0</td>\n",
              "      <td>1.0</td>\n",
              "      <td>0.0</td>\n",
              "      <td>0.0</td>\n",
              "      <td>0.0</td>\n",
              "      <td>0.0</td>\n",
              "      <td>-2.0</td>\n",
              "      <td>6.0</td>\n",
              "      <td>2.0</td>\n",
              "      <td>-2.0</td>\n",
              "      <td>0.0</td>\n",
              "      <td>1.0</td>\n",
              "    </tr>\n",
              "    <tr>\n",
              "      <th>2</th>\n",
              "      <td>78</td>\n",
              "      <td>1161.0</td>\n",
              "      <td>2016</td>\n",
              "      <td>2016</td>\n",
              "      <td>141.0</td>\n",
              "      <td>0.0</td>\n",
              "      <td>0.0</td>\n",
              "      <td>1.0</td>\n",
              "      <td>0.0</td>\n",
              "      <td>0.0</td>\n",
              "      <td>0.0</td>\n",
              "      <td>0.0</td>\n",
              "      <td>-1.0</td>\n",
              "      <td>3.0</td>\n",
              "      <td>5.0</td>\n",
              "      <td>-1.0</td>\n",
              "      <td>0.0</td>\n",
              "      <td>-5.0</td>\n",
              "    </tr>\n",
              "    <tr>\n",
              "      <th>3</th>\n",
              "      <td>101</td>\n",
              "      <td>1037.0</td>\n",
              "      <td>2016</td>\n",
              "      <td>2016</td>\n",
              "      <td>38.0</td>\n",
              "      <td>0.0</td>\n",
              "      <td>0.0</td>\n",
              "      <td>1.0</td>\n",
              "      <td>0.0</td>\n",
              "      <td>0.0</td>\n",
              "      <td>0.0</td>\n",
              "      <td>0.0</td>\n",
              "      <td>-1.0</td>\n",
              "      <td>2.0</td>\n",
              "      <td>7.0</td>\n",
              "      <td>-1.0</td>\n",
              "      <td>2.0</td>\n",
              "      <td>-2.0</td>\n",
              "    </tr>\n",
              "    <tr>\n",
              "      <th>4</th>\n",
              "      <td>204</td>\n",
              "      <td>1108.0</td>\n",
              "      <td>2016</td>\n",
              "      <td>2016</td>\n",
              "      <td>59.0</td>\n",
              "      <td>0.0</td>\n",
              "      <td>0.0</td>\n",
              "      <td>1.0</td>\n",
              "      <td>0.0</td>\n",
              "      <td>0.0</td>\n",
              "      <td>0.0</td>\n",
              "      <td>0.0</td>\n",
              "      <td>-1.0</td>\n",
              "      <td>5.0</td>\n",
              "      <td>3.0</td>\n",
              "      <td>-1.0</td>\n",
              "      <td>2.0</td>\n",
              "      <td>-1.0</td>\n",
              "    </tr>\n",
              "    <tr>\n",
              "      <th>...</th>\n",
              "      <td>...</td>\n",
              "      <td>...</td>\n",
              "      <td>...</td>\n",
              "      <td>...</td>\n",
              "      <td>...</td>\n",
              "      <td>...</td>\n",
              "      <td>...</td>\n",
              "      <td>...</td>\n",
              "      <td>...</td>\n",
              "      <td>...</td>\n",
              "      <td>...</td>\n",
              "      <td>...</td>\n",
              "      <td>...</td>\n",
              "      <td>...</td>\n",
              "      <td>...</td>\n",
              "      <td>...</td>\n",
              "      <td>...</td>\n",
              "      <td>...</td>\n",
              "    </tr>\n",
              "    <tr>\n",
              "      <th>5786</th>\n",
              "      <td>7440</td>\n",
              "      <td>493.0</td>\n",
              "      <td>2018</td>\n",
              "      <td>2019</td>\n",
              "      <td>537.0</td>\n",
              "      <td>0.0</td>\n",
              "      <td>1.0</td>\n",
              "      <td>0.0</td>\n",
              "      <td>0.0</td>\n",
              "      <td>0.0</td>\n",
              "      <td>0.0</td>\n",
              "      <td>0.0</td>\n",
              "      <td>-1.0</td>\n",
              "      <td>3.0</td>\n",
              "      <td>2.0</td>\n",
              "      <td>-4.0</td>\n",
              "      <td>1.0</td>\n",
              "      <td>0.0</td>\n",
              "    </tr>\n",
              "    <tr>\n",
              "      <th>5787</th>\n",
              "      <td>2996</td>\n",
              "      <td>560.0</td>\n",
              "      <td>2017</td>\n",
              "      <td>2019</td>\n",
              "      <td>764.0</td>\n",
              "      <td>0.0</td>\n",
              "      <td>0.0</td>\n",
              "      <td>0.0</td>\n",
              "      <td>1.0</td>\n",
              "      <td>0.0</td>\n",
              "      <td>0.0</td>\n",
              "      <td>0.0</td>\n",
              "      <td>-1.0</td>\n",
              "      <td>5.0</td>\n",
              "      <td>3.0</td>\n",
              "      <td>-1.0</td>\n",
              "      <td>2.0</td>\n",
              "      <td>-1.0</td>\n",
              "    </tr>\n",
              "    <tr>\n",
              "      <th>5788</th>\n",
              "      <td>2802</td>\n",
              "      <td>1037.0</td>\n",
              "      <td>2017</td>\n",
              "      <td>2019</td>\n",
              "      <td>943.0</td>\n",
              "      <td>0.0</td>\n",
              "      <td>1.0</td>\n",
              "      <td>0.0</td>\n",
              "      <td>0.0</td>\n",
              "      <td>0.0</td>\n",
              "      <td>0.0</td>\n",
              "      <td>0.0</td>\n",
              "      <td>-1.0</td>\n",
              "      <td>7.0</td>\n",
              "      <td>4.0</td>\n",
              "      <td>-2.0</td>\n",
              "      <td>0.0</td>\n",
              "      <td>-1.0</td>\n",
              "    </tr>\n",
              "    <tr>\n",
              "      <th>5789</th>\n",
              "      <td>222</td>\n",
              "      <td>61.0</td>\n",
              "      <td>2016</td>\n",
              "      <td>2016</td>\n",
              "      <td>114.0</td>\n",
              "      <td>0.0</td>\n",
              "      <td>0.0</td>\n",
              "      <td>0.0</td>\n",
              "      <td>0.0</td>\n",
              "      <td>0.0</td>\n",
              "      <td>0.0</td>\n",
              "      <td>1.0</td>\n",
              "      <td>-2.0</td>\n",
              "      <td>3.0</td>\n",
              "      <td>4.0</td>\n",
              "      <td>-3.0</td>\n",
              "      <td>1.0</td>\n",
              "      <td>-1.0</td>\n",
              "    </tr>\n",
              "    <tr>\n",
              "      <th>5790</th>\n",
              "      <td>24</td>\n",
              "      <td>537.0</td>\n",
              "      <td>2016</td>\n",
              "      <td>2016</td>\n",
              "      <td>90.0</td>\n",
              "      <td>0.0</td>\n",
              "      <td>1.0</td>\n",
              "      <td>0.0</td>\n",
              "      <td>0.0</td>\n",
              "      <td>0.0</td>\n",
              "      <td>0.0</td>\n",
              "      <td>0.0</td>\n",
              "      <td>0.0</td>\n",
              "      <td>1.0</td>\n",
              "      <td>4.0</td>\n",
              "      <td>-2.0</td>\n",
              "      <td>2.0</td>\n",
              "      <td>-1.0</td>\n",
              "    </tr>\n",
              "  </tbody>\n",
              "</table>\n",
              "<p>5791 rows × 18 columns</p>\n",
              "</div>"
            ],
            "text/plain": [
              "      index  Close_Value  Created Date Year  ...  agent_3  agent_4  agent_5\n",
              "0         0       1255.0               2016  ...     -6.0      1.0      0.0\n",
              "1        64        988.0               2016  ...     -2.0      0.0      1.0\n",
              "2        78       1161.0               2016  ...     -1.0      0.0     -5.0\n",
              "3       101       1037.0               2016  ...     -1.0      2.0     -2.0\n",
              "4       204       1108.0               2016  ...     -1.0      2.0     -1.0\n",
              "...     ...          ...                ...  ...      ...      ...      ...\n",
              "5786   7440        493.0               2018  ...     -4.0      1.0      0.0\n",
              "5787   2996        560.0               2017  ...     -1.0      2.0     -1.0\n",
              "5788   2802       1037.0               2017  ...     -2.0      0.0     -1.0\n",
              "5789    222         61.0               2016  ...     -3.0      1.0     -1.0\n",
              "5790     24        537.0               2016  ...     -2.0      2.0     -1.0\n",
              "\n",
              "[5791 rows x 18 columns]"
            ]
          },
          "metadata": {
            "tags": []
          },
          "execution_count": 394
        }
      ]
    },
    {
      "cell_type": "code",
      "metadata": {
        "colab": {
          "base_uri": "https://localhost:8080/"
        },
        "id": "lNdAtKljgIVB",
        "outputId": "34f69c73-328f-4578-826b-6096df659c55"
      },
      "source": [
        "\n",
        "df.iloc[7440]"
      ],
      "execution_count": null,
      "outputs": [
        {
          "output_type": "execute_result",
          "data": {
            "text/plain": [
              "Index                           7440\n",
              "Agent                Niesha Huffines\n",
              "Stage                              1\n",
              "Product                    GTX Basic\n",
              "Close_Value                      493\n",
              "Created Date Year               2018\n",
              "Close Date Year                 2019\n",
              "days                             537\n",
              "Name: 7440, dtype: object"
            ]
          },
          "metadata": {
            "tags": []
          },
          "execution_count": 395
        }
      ]
    },
    {
      "cell_type": "code",
      "metadata": {
        "colab": {
          "base_uri": "https://localhost:8080/"
        },
        "id": "9S4MhLbzuVsh",
        "outputId": "ea88e288-44de-4231-f1d1-285fbd7c1434"
      },
      "source": [
        "clf = DecisionTreeClassifier()\n",
        "clf.fit(train_x_data, train_y_data)"
      ],
      "execution_count": null,
      "outputs": [
        {
          "output_type": "execute_result",
          "data": {
            "text/plain": [
              "DecisionTreeClassifier(ccp_alpha=0.0, class_weight=None, criterion='gini',\n",
              "                       max_depth=None, max_features=None, max_leaf_nodes=None,\n",
              "                       min_impurity_decrease=0.0, min_impurity_split=None,\n",
              "                       min_samples_leaf=1, min_samples_split=2,\n",
              "                       min_weight_fraction_leaf=0.0, presort='deprecated',\n",
              "                       random_state=None, splitter='best')"
            ]
          },
          "metadata": {
            "tags": []
          },
          "execution_count": 396
        }
      ]
    },
    {
      "cell_type": "code",
      "metadata": {
        "id": "5ExTaYZ8wvXr"
      },
      "source": [
        "y_pred = clf.predict(val_x_data)"
      ],
      "execution_count": null,
      "outputs": []
    },
    {
      "cell_type": "code",
      "metadata": {
        "colab": {
          "base_uri": "https://localhost:8080/"
        },
        "id": "oEVVJVjRw-gR",
        "outputId": "e2d84d42-854d-413d-96e6-bb36c26575c2"
      },
      "source": [
        "from sklearn.metrics import classification_report, confusion_matrix\n",
        "print(confusion_matrix(val_y_data, y_pred))\n",
        "print(classification_report(val_y_data, y_pred))"
      ],
      "execution_count": null,
      "outputs": [
        {
          "output_type": "stream",
          "text": [
            "[[928  63]\n",
            " [ 71 947]]\n",
            "              precision    recall  f1-score   support\n",
            "\n",
            "           0       0.93      0.94      0.93       991\n",
            "           1       0.94      0.93      0.93      1018\n",
            "\n",
            "    accuracy                           0.93      2009\n",
            "   macro avg       0.93      0.93      0.93      2009\n",
            "weighted avg       0.93      0.93      0.93      2009\n",
            "\n"
          ],
          "name": "stdout"
        }
      ]
    },
    {
      "cell_type": "code",
      "metadata": {
        "id": "PnV-kXRHzMkk"
      },
      "source": [
        "from sklearn.ensemble import RandomForestClassifier"
      ],
      "execution_count": null,
      "outputs": []
    },
    {
      "cell_type": "code",
      "metadata": {
        "colab": {
          "base_uri": "https://localhost:8080/"
        },
        "id": "jJi01rACzflg",
        "outputId": "c6cae7e8-bed3-4bbb-ba5f-a8fa491855c6"
      },
      "source": [
        "clf = RandomForestClassifier(random_state=30, n_estimators=100, criterion='entropy', max_depth=17, bootstrap=False)\n",
        "clf.fit(train_x_data, train_y_data)"
      ],
      "execution_count": null,
      "outputs": [
        {
          "output_type": "execute_result",
          "data": {
            "text/plain": [
              "RandomForestClassifier(bootstrap=False, ccp_alpha=0.0, class_weight=None,\n",
              "                       criterion='entropy', max_depth=17, max_features='auto',\n",
              "                       max_leaf_nodes=None, max_samples=None,\n",
              "                       min_impurity_decrease=0.0, min_impurity_split=None,\n",
              "                       min_samples_leaf=1, min_samples_split=2,\n",
              "                       min_weight_fraction_leaf=0.0, n_estimators=100,\n",
              "                       n_jobs=None, oob_score=False, random_state=30, verbose=0,\n",
              "                       warm_start=False)"
            ]
          },
          "metadata": {
            "tags": []
          },
          "execution_count": 400
        }
      ]
    },
    {
      "cell_type": "code",
      "metadata": {
        "id": "JlbGeQSVzo8p"
      },
      "source": [
        "y_pred2 = clf.predict(val_x_data)"
      ],
      "execution_count": null,
      "outputs": []
    },
    {
      "cell_type": "code",
      "metadata": {
        "colab": {
          "base_uri": "https://localhost:8080/"
        },
        "id": "pfhctaP5zrvk",
        "outputId": "1a0cdb7e-2b4e-4a82-a7a3-b4564c4b9e6c"
      },
      "source": [
        "print(confusion_matrix(val_y_data, y_pred2))\n",
        "print(classification_report(val_y_data, y_pred2))"
      ],
      "execution_count": null,
      "outputs": [
        {
          "output_type": "stream",
          "text": [
            "[[889 102]\n",
            " [ 38 980]]\n",
            "              precision    recall  f1-score   support\n",
            "\n",
            "           0       0.96      0.90      0.93       991\n",
            "           1       0.91      0.96      0.93      1018\n",
            "\n",
            "    accuracy                           0.93      2009\n",
            "   macro avg       0.93      0.93      0.93      2009\n",
            "weighted avg       0.93      0.93      0.93      2009\n",
            "\n"
          ],
          "name": "stdout"
        }
      ]
    },
    {
      "cell_type": "code",
      "metadata": {
        "colab": {
          "base_uri": "https://localhost:8080/"
        },
        "id": "A6XK8RpSztzm",
        "outputId": "b2d9ad83-6ac9-46c1-8b75-42a7ef59f0bb"
      },
      "source": [
        "from sklearn.neighbors import KNeighborsClassifier\n",
        "neigh = KNeighborsClassifier(n_neighbors=10)\n",
        "neigh.fit(train_x_data, train_y_data)"
      ],
      "execution_count": null,
      "outputs": [
        {
          "output_type": "execute_result",
          "data": {
            "text/plain": [
              "KNeighborsClassifier(algorithm='auto', leaf_size=30, metric='minkowski',\n",
              "                     metric_params=None, n_jobs=None, n_neighbors=10, p=2,\n",
              "                     weights='uniform')"
            ]
          },
          "metadata": {
            "tags": []
          },
          "execution_count": 403
        }
      ]
    },
    {
      "cell_type": "code",
      "metadata": {
        "id": "MK66zjo20193"
      },
      "source": [
        "y_pred3 = neigh.predict(val_x_data)"
      ],
      "execution_count": null,
      "outputs": []
    },
    {
      "cell_type": "code",
      "metadata": {
        "colab": {
          "base_uri": "https://localhost:8080/"
        },
        "id": "QFpA_LFX08V7",
        "outputId": "1b945ab6-f4f7-4bd1-97a0-069e706d1834"
      },
      "source": [
        "print(confusion_matrix(val_y_data, y_pred3))\n",
        "print(classification_report(val_y_data, y_pred3))"
      ],
      "execution_count": null,
      "outputs": [
        {
          "output_type": "stream",
          "text": [
            "[[712 279]\n",
            " [411 607]]\n",
            "              precision    recall  f1-score   support\n",
            "\n",
            "           0       0.63      0.72      0.67       991\n",
            "           1       0.69      0.60      0.64      1018\n",
            "\n",
            "    accuracy                           0.66      2009\n",
            "   macro avg       0.66      0.66      0.66      2009\n",
            "weighted avg       0.66      0.66      0.66      2009\n",
            "\n"
          ],
          "name": "stdout"
        }
      ]
    },
    {
      "cell_type": "code",
      "metadata": {
        "id": "uDTs_79G16ds"
      },
      "source": [
        "from sklearn.naive_bayes import GaussianNB\n",
        "gnb = GaussianNB()\n",
        "y_pred4 = gnb.fit(train_x_data, train_y_data).predict(val_x_data)"
      ],
      "execution_count": null,
      "outputs": []
    },
    {
      "cell_type": "code",
      "metadata": {
        "colab": {
          "base_uri": "https://localhost:8080/"
        },
        "id": "tj8sCXUg2KEW",
        "outputId": "c3c6d50a-45fc-4c5d-bdae-870b9e772b2b"
      },
      "source": [
        "print(confusion_matrix(val_y_data, y_pred4))\n",
        "print(classification_report(val_y_data, y_pred4))"
      ],
      "execution_count": null,
      "outputs": [
        {
          "output_type": "stream",
          "text": [
            "[[495 496]\n",
            " [302 716]]\n",
            "              precision    recall  f1-score   support\n",
            "\n",
            "           0       0.62      0.50      0.55       991\n",
            "           1       0.59      0.70      0.64      1018\n",
            "\n",
            "    accuracy                           0.60      2009\n",
            "   macro avg       0.61      0.60      0.60      2009\n",
            "weighted avg       0.61      0.60      0.60      2009\n",
            "\n"
          ],
          "name": "stdout"
        }
      ]
    },
    {
      "cell_type": "markdown",
      "metadata": {
        "id": "HshH78V3lWFB"
      },
      "source": [
        "check the best n_features for hashing agents"
      ]
    },
    {
      "cell_type": "code",
      "metadata": {
        "colab": {
          "base_uri": "https://localhost:8080/"
        },
        "id": "0se2I9gzDlUO",
        "outputId": "07d3f606-07a0-49ba-e634-9c2d48701faf"
      },
      "source": [
        "from sklearn.feature_extraction import FeatureHasher\n",
        "agents = list(df['Agent'].unique()) + ['other']\n",
        "hashEncoder = FeatureHasher(n_features=6, input_type='string', alternate_sign=False)\n",
        "l = hashEncoder.fit_transform(agents).toarray()\n",
        "print(len(l))\n",
        "# print(list(l))\n",
        "# print(len(set(list(l))))\n",
        "s = list()\n",
        "for each in l:\n",
        "  if list(each) in s:\n",
        "    print('here')\n",
        "  s.append(list(each))\n",
        "  print(each)\n",
        "# hashEncoder.transform(['a', 'b', 'c', 'd']).toarray()"
      ],
      "execution_count": null,
      "outputs": [
        {
          "output_type": "stream",
          "text": [
            "31\n",
            "[0. 4. 2. 6. 1. 0.]\n",
            "[1. 4. 5. 5. 0. 0.]\n",
            "[3. 3. 5. 2. 0. 0.]\n",
            "[1. 4. 2. 3. 2. 2.]\n",
            "[2. 2. 6. 3. 1. 1.]\n",
            "[1. 2. 2. 1. 1. 2.]\n",
            "[2. 6. 2. 2. 2. 1.]\n",
            "[1. 3. 5. 1. 0. 5.]\n",
            "[1. 6. 2. 3. 1. 0.]\n",
            "[0. 2. 4. 3. 1. 2.]\n",
            "[1. 2. 7. 1. 2. 2.]\n",
            "[1. 7. 4. 4. 0. 1.]\n",
            "[5. 1. 5. 1. 1. 0.]\n",
            "[2. 3. 4. 3. 1. 1.]\n",
            "[0. 1. 4. 4. 2. 3.]\n",
            "[0. 3. 6. 3. 2. 2.]\n",
            "[2. 4. 5. 1. 1. 1.]\n",
            "[1. 4. 6. 3. 1. 1.]\n",
            "[0. 4. 3. 3. 1. 0.]\n",
            "[2. 6. 4. 4. 1. 1.]\n",
            "[0. 3. 2. 6. 1. 0.]\n",
            "[1. 5. 3. 1. 2. 1.]\n",
            "[2. 5. 4. 0. 3. 1.]\n",
            "[2. 6. 5. 3. 0. 2.]\n",
            "[1. 1. 5. 2. 2. 2.]\n",
            "[2. 5. 3. 2. 0. 0.]\n",
            "[1. 3. 2. 4. 1. 4.]\n",
            "[1. 6. 4. 1. 4. 1.]\n",
            "[2. 1. 3. 4. 2. 2.]\n",
            "[0. 2. 4. 3. 0. 0.]\n",
            "[0. 3. 0. 1. 0. 1.]\n"
          ],
          "name": "stdout"
        }
      ]
    }
  ]
}